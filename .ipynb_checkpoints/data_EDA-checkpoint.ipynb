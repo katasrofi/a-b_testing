{
 "cells": [
  {
   "cell_type": "code",
   "execution_count": 75,
   "id": "1d4ec608",
   "metadata": {},
   "outputs": [],
   "source": [
    "# Import the importance libraries\n",
    "import pandas as pd\n",
    "import numpy as np\n",
    "import matplotlib.pyplot as plt"
   ]
  },
  {
   "cell_type": "code",
   "execution_count": 76,
   "id": "2d584c16",
   "metadata": {
    "scrolled": false
   },
   "outputs": [
    {
     "data": {
      "text/html": [
       "<div>\n",
       "<style scoped>\n",
       "    .dataframe tbody tr th:only-of-type {\n",
       "        vertical-align: middle;\n",
       "    }\n",
       "\n",
       "    .dataframe tbody tr th {\n",
       "        vertical-align: top;\n",
       "    }\n",
       "\n",
       "    .dataframe thead th {\n",
       "        text-align: right;\n",
       "    }\n",
       "</style>\n",
       "<table border=\"1\" class=\"dataframe\">\n",
       "  <thead>\n",
       "    <tr style=\"text-align: right;\">\n",
       "      <th></th>\n",
       "      <th>auction_id</th>\n",
       "      <th>experiment</th>\n",
       "      <th>date</th>\n",
       "      <th>hour</th>\n",
       "      <th>device_make</th>\n",
       "      <th>platform_os</th>\n",
       "      <th>browser</th>\n",
       "      <th>yes</th>\n",
       "      <th>no</th>\n",
       "    </tr>\n",
       "  </thead>\n",
       "  <tbody>\n",
       "    <tr>\n",
       "      <th>0</th>\n",
       "      <td>0008ef63-77a7-448b-bd1e-075f42c55e39</td>\n",
       "      <td>exposed</td>\n",
       "      <td>2020-07-10</td>\n",
       "      <td>8</td>\n",
       "      <td>Generic Smartphone</td>\n",
       "      <td>6</td>\n",
       "      <td>Chrome Mobile</td>\n",
       "      <td>0</td>\n",
       "      <td>0</td>\n",
       "    </tr>\n",
       "    <tr>\n",
       "      <th>1</th>\n",
       "      <td>000eabc5-17ce-4137-8efe-44734d914446</td>\n",
       "      <td>exposed</td>\n",
       "      <td>2020-07-07</td>\n",
       "      <td>10</td>\n",
       "      <td>Generic Smartphone</td>\n",
       "      <td>6</td>\n",
       "      <td>Chrome Mobile</td>\n",
       "      <td>0</td>\n",
       "      <td>0</td>\n",
       "    </tr>\n",
       "    <tr>\n",
       "      <th>2</th>\n",
       "      <td>0016d14a-ae18-4a02-a204-6ba53b52f2ed</td>\n",
       "      <td>exposed</td>\n",
       "      <td>2020-07-05</td>\n",
       "      <td>2</td>\n",
       "      <td>E5823</td>\n",
       "      <td>6</td>\n",
       "      <td>Chrome Mobile WebView</td>\n",
       "      <td>0</td>\n",
       "      <td>1</td>\n",
       "    </tr>\n",
       "    <tr>\n",
       "      <th>3</th>\n",
       "      <td>00187412-2932-4542-a8ef-3633901c98d9</td>\n",
       "      <td>control</td>\n",
       "      <td>2020-07-03</td>\n",
       "      <td>15</td>\n",
       "      <td>Samsung SM-A705FN</td>\n",
       "      <td>6</td>\n",
       "      <td>Facebook</td>\n",
       "      <td>0</td>\n",
       "      <td>0</td>\n",
       "    </tr>\n",
       "    <tr>\n",
       "      <th>4</th>\n",
       "      <td>001a7785-d3fe-4e11-a344-c8735acacc2c</td>\n",
       "      <td>control</td>\n",
       "      <td>2020-07-03</td>\n",
       "      <td>15</td>\n",
       "      <td>Generic Smartphone</td>\n",
       "      <td>6</td>\n",
       "      <td>Chrome Mobile</td>\n",
       "      <td>0</td>\n",
       "      <td>0</td>\n",
       "    </tr>\n",
       "  </tbody>\n",
       "</table>\n",
       "</div>"
      ],
      "text/plain": [
       "                             auction_id experiment        date  hour  \\\n",
       "0  0008ef63-77a7-448b-bd1e-075f42c55e39    exposed  2020-07-10     8   \n",
       "1  000eabc5-17ce-4137-8efe-44734d914446    exposed  2020-07-07    10   \n",
       "2  0016d14a-ae18-4a02-a204-6ba53b52f2ed    exposed  2020-07-05     2   \n",
       "3  00187412-2932-4542-a8ef-3633901c98d9    control  2020-07-03    15   \n",
       "4  001a7785-d3fe-4e11-a344-c8735acacc2c    control  2020-07-03    15   \n",
       "\n",
       "          device_make  platform_os                browser  yes  no  \n",
       "0  Generic Smartphone            6          Chrome Mobile    0   0  \n",
       "1  Generic Smartphone            6          Chrome Mobile    0   0  \n",
       "2               E5823            6  Chrome Mobile WebView    0   1  \n",
       "3   Samsung SM-A705FN            6               Facebook    0   0  \n",
       "4  Generic Smartphone            6          Chrome Mobile    0   0  "
      ]
     },
     "execution_count": 76,
     "metadata": {},
     "output_type": "execute_result"
    }
   ],
   "source": [
    "dataset = pd.read_csv(\"AdSmartABdata - AdSmartABdata.csv\")\n",
    "dataset.head()"
   ]
  },
  {
   "cell_type": "code",
   "execution_count": 77,
   "id": "625fe82e",
   "metadata": {},
   "outputs": [
    {
     "data": {
      "text/plain": [
       "(8077, 9)"
      ]
     },
     "execution_count": 77,
     "metadata": {},
     "output_type": "execute_result"
    }
   ],
   "source": [
    "dataset.shape"
   ]
  },
  {
   "cell_type": "markdown",
   "id": "0b39ad96",
   "metadata": {},
   "source": [
    "# Exploreatory Data Analysis"
   ]
  },
  {
   "cell_type": "code",
   "execution_count": 78,
   "id": "cc079acf",
   "metadata": {},
   "outputs": [
    {
     "data": {
      "text/plain": [
       "auction_id     0\n",
       "experiment     0\n",
       "date           0\n",
       "hour           0\n",
       "device_make    0\n",
       "platform_os    0\n",
       "browser        0\n",
       "yes            0\n",
       "no             0\n",
       "dtype: int64"
      ]
     },
     "execution_count": 78,
     "metadata": {},
     "output_type": "execute_result"
    }
   ],
   "source": [
    "dataset.isnull().sum()"
   ]
  },
  {
   "cell_type": "code",
   "execution_count": 79,
   "id": "6a90a37a",
   "metadata": {},
   "outputs": [
    {
     "data": {
      "text/plain": [
       "array(['exposed', 'control'], dtype=object)"
      ]
     },
     "execution_count": 79,
     "metadata": {},
     "output_type": "execute_result"
    }
   ],
   "source": [
    "dataset[\"experiment\"].unique()"
   ]
  },
  {
   "cell_type": "code",
   "execution_count": 81,
   "id": "908c0a0a",
   "metadata": {},
   "outputs": [
    {
     "data": {
      "text/plain": [
       "572"
      ]
     },
     "execution_count": 81,
     "metadata": {},
     "output_type": "execute_result"
    }
   ],
   "source": [
    "dataset[\"yes\"].sum()"
   ]
  },
  {
   "cell_type": "code",
   "execution_count": 82,
   "id": "1d35bb0d",
   "metadata": {},
   "outputs": [
    {
     "data": {
      "text/plain": [
       "671"
      ]
     },
     "execution_count": 82,
     "metadata": {},
     "output_type": "execute_result"
    }
   ],
   "source": [
    "dataset[\"no\"].sum()"
   ]
  },
  {
   "cell_type": "code",
   "execution_count": 83,
   "id": "54376a5a",
   "metadata": {},
   "outputs": [
    {
     "data": {
      "text/plain": [
       "<Axes: ylabel='hour'>"
      ]
     },
     "execution_count": 83,
     "metadata": {},
     "output_type": "execute_result"
    },
    {
     "data": {
      "image/png": "[encoded data removed]",
      "text/plain": [
       "<Figure size 640x480 with 1 Axes>"
      ]
     },
     "metadata": {},
     "output_type": "display_data"
    }
   ],
   "source": [
    "dataset[\"hour\"].value_counts().sort_values().plot(kind=\"barh\")"
   ]
  },
  {
   "cell_type": "code",
   "execution_count": 84,
   "id": "98133797",
   "metadata": {},
   "outputs": [
    {
     "data": {
      "text/plain": [
       "auction_id     object\n",
       "experiment     object\n",
       "date           object\n",
       "hour            int64\n",
       "device_make    object\n",
       "platform_os     int64\n",
       "browser        object\n",
       "yes             int64\n",
       "no              int64\n",
       "dtype: object"
      ]
     },
     "execution_count": 84,
     "metadata": {},
     "output_type": "execute_result"
    }
   ],
   "source": [
    "dataset.dtypes"
   ]
  },
  {
   "cell_type": "code",
   "execution_count": 85,
   "id": "7b90121e",
   "metadata": {},
   "outputs": [
    {
     "data": {
      "text/plain": [
       "device_make\n",
       "Generic Smartphone     4743\n",
       "iPhone                  433\n",
       "Samsung SM-G960F        203\n",
       "Samsung SM-G973F        154\n",
       "Samsung SM-G950F        148\n",
       "                       ... \n",
       "D5803                     1\n",
       "Samsung SM-G6100          1\n",
       "HTC M10h                  1\n",
       "Samsung SM-G925I          1\n",
       "XiaoMi Redmi Note 5       1\n",
       "Name: count, Length: 269, dtype: int64"
      ]
     },
     "execution_count": 85,
     "metadata": {},
     "output_type": "execute_result"
    }
   ],
   "source": [
    "dataset[\"device_make\"].value_counts()"
   ]
  },
  {
   "cell_type": "code",
   "execution_count": 86,
   "id": "6d1ca60d",
   "metadata": {},
   "outputs": [
    {
     "name": "stdout",
     "output_type": "stream",
     "text": [
      "<class 'pandas.core.frame.DataFrame'>\n",
      "RangeIndex: 8077 entries, 0 to 8076\n",
      "Data columns (total 9 columns):\n",
      " #   Column       Non-Null Count  Dtype \n",
      "---  ------       --------------  ----- \n",
      " 0   auction_id   8077 non-null   object\n",
      " 1   experiment   8077 non-null   object\n",
      " 2   date         8077 non-null   object\n",
      " 3   hour         8077 non-null   int64 \n",
      " 4   device_make  8077 non-null   object\n",
      " 5   platform_os  8077 non-null   int64 \n",
      " 6   browser      8077 non-null   object\n",
      " 7   yes          8077 non-null   int64 \n",
      " 8   no           8077 non-null   int64 \n",
      "dtypes: int64(4), object(5)\n",
      "memory usage: 568.0+ KB\n"
     ]
    }
   ],
   "source": [
    "dataset.info()"
   ]
  },
  {
   "cell_type": "code",
   "execution_count": 87,
   "id": "31f510dc",
   "metadata": {},
   "outputs": [
    {
     "data": {
      "text/html": [
       "<div>\n",
       "<style scoped>\n",
       "    .dataframe tbody tr th:only-of-type {\n",
       "        vertical-align: middle;\n",
       "    }\n",
       "\n",
       "    .dataframe tbody tr th {\n",
       "        vertical-align: top;\n",
       "    }\n",
       "\n",
       "    .dataframe thead th {\n",
       "        text-align: right;\n",
       "    }\n",
       "</style>\n",
       "<table border=\"1\" class=\"dataframe\">\n",
       "  <thead>\n",
       "    <tr style=\"text-align: right;\">\n",
       "      <th></th>\n",
       "      <th>hour</th>\n",
       "      <th>platform_os</th>\n",
       "      <th>yes</th>\n",
       "      <th>no</th>\n",
       "    </tr>\n",
       "  </thead>\n",
       "  <tbody>\n",
       "    <tr>\n",
       "      <th>count</th>\n",
       "      <td>8077.000000</td>\n",
       "      <td>8077.000000</td>\n",
       "      <td>8077.000000</td>\n",
       "      <td>8077.000000</td>\n",
       "    </tr>\n",
       "    <tr>\n",
       "      <th>mean</th>\n",
       "      <td>11.615080</td>\n",
       "      <td>5.947134</td>\n",
       "      <td>0.070818</td>\n",
       "      <td>0.083075</td>\n",
       "    </tr>\n",
       "    <tr>\n",
       "      <th>std</th>\n",
       "      <td>5.734879</td>\n",
       "      <td>0.224333</td>\n",
       "      <td>0.256537</td>\n",
       "      <td>0.276013</td>\n",
       "    </tr>\n",
       "    <tr>\n",
       "      <th>min</th>\n",
       "      <td>0.000000</td>\n",
       "      <td>5.000000</td>\n",
       "      <td>0.000000</td>\n",
       "      <td>0.000000</td>\n",
       "    </tr>\n",
       "    <tr>\n",
       "      <th>25%</th>\n",
       "      <td>7.000000</td>\n",
       "      <td>6.000000</td>\n",
       "      <td>0.000000</td>\n",
       "      <td>0.000000</td>\n",
       "    </tr>\n",
       "    <tr>\n",
       "      <th>50%</th>\n",
       "      <td>13.000000</td>\n",
       "      <td>6.000000</td>\n",
       "      <td>0.000000</td>\n",
       "      <td>0.000000</td>\n",
       "    </tr>\n",
       "    <tr>\n",
       "      <th>75%</th>\n",
       "      <td>15.000000</td>\n",
       "      <td>6.000000</td>\n",
       "      <td>0.000000</td>\n",
       "      <td>0.000000</td>\n",
       "    </tr>\n",
       "    <tr>\n",
       "      <th>max</th>\n",
       "      <td>23.000000</td>\n",
       "      <td>7.000000</td>\n",
       "      <td>1.000000</td>\n",
       "      <td>1.000000</td>\n",
       "    </tr>\n",
       "  </tbody>\n",
       "</table>\n",
       "</div>"
      ],
      "text/plain": [
       "              hour  platform_os          yes           no\n",
       "count  8077.000000  8077.000000  8077.000000  8077.000000\n",
       "mean     11.615080     5.947134     0.070818     0.083075\n",
       "std       5.734879     0.224333     0.256537     0.276013\n",
       "min       0.000000     5.000000     0.000000     0.000000\n",
       "25%       7.000000     6.000000     0.000000     0.000000\n",
       "50%      13.000000     6.000000     0.000000     0.000000\n",
       "75%      15.000000     6.000000     0.000000     0.000000\n",
       "max      23.000000     7.000000     1.000000     1.000000"
      ]
     },
     "execution_count": 87,
     "metadata": {},
     "output_type": "execute_result"
    }
   ],
   "source": [
    "dataset.describe()"
   ]
  },
  {
   "cell_type": "code",
   "execution_count": 88,
   "id": "28df1682",
   "metadata": {},
   "outputs": [
    {
     "data": {
      "text/plain": [
       "0"
      ]
     },
     "execution_count": 88,
     "metadata": {},
     "output_type": "execute_result"
    }
   ],
   "source": [
    "dataset.duplicated(subset=\"auction_id\").sum()"
   ]
  },
  {
   "cell_type": "code",
   "execution_count": 89,
   "id": "e2e98a70",
   "metadata": {},
   "outputs": [],
   "source": [
    "import warnings\n",
    "warnings.filterwarnings(\"ignore\", category=FutureWarning)"
   ]
  },
  {
   "cell_type": "code",
   "execution_count": 90,
   "id": "0ad1e9ff",
   "metadata": {},
   "outputs": [],
   "source": [
    "def get_response(row):\n",
    "    if row[0] == 1:\n",
    "        res = \"yes\"\n",
    "    elif row[1] == 1:\n",
    "        res = \"no\"\n",
    "    else:\n",
    "        res = \"no response\"\n",
    "        \n",
    "    return res"
   ]
  },
  {
   "cell_type": "code",
   "execution_count": 91,
   "id": "c1513beb",
   "metadata": {
    "scrolled": true
   },
   "outputs": [
    {
     "data": {
      "text/html": [
       "<div>\n",
       "<style scoped>\n",
       "    .dataframe tbody tr th:only-of-type {\n",
       "        vertical-align: middle;\n",
       "    }\n",
       "\n",
       "    .dataframe tbody tr th {\n",
       "        vertical-align: top;\n",
       "    }\n",
       "\n",
       "    .dataframe thead th {\n",
       "        text-align: right;\n",
       "    }\n",
       "</style>\n",
       "<table border=\"1\" class=\"dataframe\">\n",
       "  <thead>\n",
       "    <tr style=\"text-align: right;\">\n",
       "      <th></th>\n",
       "      <th>auction_id</th>\n",
       "      <th>experiment</th>\n",
       "      <th>date</th>\n",
       "      <th>hour</th>\n",
       "      <th>device_make</th>\n",
       "      <th>platform_os</th>\n",
       "      <th>browser</th>\n",
       "      <th>yes</th>\n",
       "      <th>no</th>\n",
       "      <th>response</th>\n",
       "    </tr>\n",
       "  </thead>\n",
       "  <tbody>\n",
       "    <tr>\n",
       "      <th>0</th>\n",
       "      <td>0008ef63-77a7-448b-bd1e-075f42c55e39</td>\n",
       "      <td>exposed</td>\n",
       "      <td>2020-07-10</td>\n",
       "      <td>8</td>\n",
       "      <td>Generic Smartphone</td>\n",
       "      <td>6</td>\n",
       "      <td>Chrome Mobile</td>\n",
       "      <td>0</td>\n",
       "      <td>0</td>\n",
       "      <td>no response</td>\n",
       "    </tr>\n",
       "    <tr>\n",
       "      <th>1</th>\n",
       "      <td>000eabc5-17ce-4137-8efe-44734d914446</td>\n",
       "      <td>exposed</td>\n",
       "      <td>2020-07-07</td>\n",
       "      <td>10</td>\n",
       "      <td>Generic Smartphone</td>\n",
       "      <td>6</td>\n",
       "      <td>Chrome Mobile</td>\n",
       "      <td>0</td>\n",
       "      <td>0</td>\n",
       "      <td>no response</td>\n",
       "    </tr>\n",
       "    <tr>\n",
       "      <th>2</th>\n",
       "      <td>0016d14a-ae18-4a02-a204-6ba53b52f2ed</td>\n",
       "      <td>exposed</td>\n",
       "      <td>2020-07-05</td>\n",
       "      <td>2</td>\n",
       "      <td>E5823</td>\n",
       "      <td>6</td>\n",
       "      <td>Chrome Mobile WebView</td>\n",
       "      <td>0</td>\n",
       "      <td>1</td>\n",
       "      <td>no</td>\n",
       "    </tr>\n",
       "    <tr>\n",
       "      <th>3</th>\n",
       "      <td>00187412-2932-4542-a8ef-3633901c98d9</td>\n",
       "      <td>control</td>\n",
       "      <td>2020-07-03</td>\n",
       "      <td>15</td>\n",
       "      <td>Samsung SM-A705FN</td>\n",
       "      <td>6</td>\n",
       "      <td>Facebook</td>\n",
       "      <td>0</td>\n",
       "      <td>0</td>\n",
       "      <td>no response</td>\n",
       "    </tr>\n",
       "    <tr>\n",
       "      <th>4</th>\n",
       "      <td>001a7785-d3fe-4e11-a344-c8735acacc2c</td>\n",
       "      <td>control</td>\n",
       "      <td>2020-07-03</td>\n",
       "      <td>15</td>\n",
       "      <td>Generic Smartphone</td>\n",
       "      <td>6</td>\n",
       "      <td>Chrome Mobile</td>\n",
       "      <td>0</td>\n",
       "      <td>0</td>\n",
       "      <td>no response</td>\n",
       "    </tr>\n",
       "  </tbody>\n",
       "</table>\n",
       "</div>"
      ],
      "text/plain": [
       "                             auction_id experiment        date  hour  \\\n",
       "0  0008ef63-77a7-448b-bd1e-075f42c55e39    exposed  2020-07-10     8   \n",
       "1  000eabc5-17ce-4137-8efe-44734d914446    exposed  2020-07-07    10   \n",
       "2  0016d14a-ae18-4a02-a204-6ba53b52f2ed    exposed  2020-07-05     2   \n",
       "3  00187412-2932-4542-a8ef-3633901c98d9    control  2020-07-03    15   \n",
       "4  001a7785-d3fe-4e11-a344-c8735acacc2c    control  2020-07-03    15   \n",
       "\n",
       "          device_make  platform_os                browser  yes  no  \\\n",
       "0  Generic Smartphone            6          Chrome Mobile    0   0   \n",
       "1  Generic Smartphone            6          Chrome Mobile    0   0   \n",
       "2               E5823            6  Chrome Mobile WebView    0   1   \n",
       "3   Samsung SM-A705FN            6               Facebook    0   0   \n",
       "4  Generic Smartphone            6          Chrome Mobile    0   0   \n",
       "\n",
       "      response  \n",
       "0  no response  \n",
       "1  no response  \n",
       "2           no  \n",
       "3  no response  \n",
       "4  no response  "
      ]
     },
     "execution_count": 91,
     "metadata": {},
     "output_type": "execute_result"
    }
   ],
   "source": [
    "# Make different copy for later test\n",
    "df = dataset.copy()\n",
    "df['no_response'] = (df['yes']+df['no']).apply(lambda x: 1 if x < 1 else 0)\n",
    "\n",
    "# Use dataset with different methode to easir visualization\n",
    "dataset[\"response\"] = dataset[[\"yes\", \"no\"]].apply(get_response, axis=1)\n",
    "dataset.head()"
   ]
  },
  {
   "cell_type": "code",
   "execution_count": 92,
   "id": "1a19b9bd",
   "metadata": {},
   "outputs": [
    {
     "data": {
      "text/html": [
       "<div>\n",
       "<style scoped>\n",
       "    .dataframe tbody tr th:only-of-type {\n",
       "        vertical-align: middle;\n",
       "    }\n",
       "\n",
       "    .dataframe tbody tr th {\n",
       "        vertical-align: top;\n",
       "    }\n",
       "\n",
       "    .dataframe thead th {\n",
       "        text-align: right;\n",
       "    }\n",
       "</style>\n",
       "<table border=\"1\" class=\"dataframe\">\n",
       "  <thead>\n",
       "    <tr style=\"text-align: right;\">\n",
       "      <th></th>\n",
       "      <th>auction_id</th>\n",
       "      <th>experiment</th>\n",
       "      <th>date</th>\n",
       "      <th>hour</th>\n",
       "      <th>device_make</th>\n",
       "      <th>platform_os</th>\n",
       "      <th>browser</th>\n",
       "      <th>yes</th>\n",
       "      <th>no</th>\n",
       "      <th>no_response</th>\n",
       "    </tr>\n",
       "  </thead>\n",
       "  <tbody>\n",
       "    <tr>\n",
       "      <th>0</th>\n",
       "      <td>0008ef63-77a7-448b-bd1e-075f42c55e39</td>\n",
       "      <td>exposed</td>\n",
       "      <td>2020-07-10</td>\n",
       "      <td>8</td>\n",
       "      <td>Generic Smartphone</td>\n",
       "      <td>6</td>\n",
       "      <td>Chrome Mobile</td>\n",
       "      <td>0</td>\n",
       "      <td>0</td>\n",
       "      <td>1</td>\n",
       "    </tr>\n",
       "    <tr>\n",
       "      <th>1</th>\n",
       "      <td>000eabc5-17ce-4137-8efe-44734d914446</td>\n",
       "      <td>exposed</td>\n",
       "      <td>2020-07-07</td>\n",
       "      <td>10</td>\n",
       "      <td>Generic Smartphone</td>\n",
       "      <td>6</td>\n",
       "      <td>Chrome Mobile</td>\n",
       "      <td>0</td>\n",
       "      <td>0</td>\n",
       "      <td>1</td>\n",
       "    </tr>\n",
       "    <tr>\n",
       "      <th>2</th>\n",
       "      <td>0016d14a-ae18-4a02-a204-6ba53b52f2ed</td>\n",
       "      <td>exposed</td>\n",
       "      <td>2020-07-05</td>\n",
       "      <td>2</td>\n",
       "      <td>E5823</td>\n",
       "      <td>6</td>\n",
       "      <td>Chrome Mobile WebView</td>\n",
       "      <td>0</td>\n",
       "      <td>1</td>\n",
       "      <td>0</td>\n",
       "    </tr>\n",
       "    <tr>\n",
       "      <th>3</th>\n",
       "      <td>00187412-2932-4542-a8ef-3633901c98d9</td>\n",
       "      <td>control</td>\n",
       "      <td>2020-07-03</td>\n",
       "      <td>15</td>\n",
       "      <td>Samsung SM-A705FN</td>\n",
       "      <td>6</td>\n",
       "      <td>Facebook</td>\n",
       "      <td>0</td>\n",
       "      <td>0</td>\n",
       "      <td>1</td>\n",
       "    </tr>\n",
       "    <tr>\n",
       "      <th>4</th>\n",
       "      <td>001a7785-d3fe-4e11-a344-c8735acacc2c</td>\n",
       "      <td>control</td>\n",
       "      <td>2020-07-03</td>\n",
       "      <td>15</td>\n",
       "      <td>Generic Smartphone</td>\n",
       "      <td>6</td>\n",
       "      <td>Chrome Mobile</td>\n",
       "      <td>0</td>\n",
       "      <td>0</td>\n",
       "      <td>1</td>\n",
       "    </tr>\n",
       "  </tbody>\n",
       "</table>\n",
       "</div>"
      ],
      "text/plain": [
       "                             auction_id experiment        date  hour  \\\n",
       "0  0008ef63-77a7-448b-bd1e-075f42c55e39    exposed  2020-07-10     8   \n",
       "1  000eabc5-17ce-4137-8efe-44734d914446    exposed  2020-07-07    10   \n",
       "2  0016d14a-ae18-4a02-a204-6ba53b52f2ed    exposed  2020-07-05     2   \n",
       "3  00187412-2932-4542-a8ef-3633901c98d9    control  2020-07-03    15   \n",
       "4  001a7785-d3fe-4e11-a344-c8735acacc2c    control  2020-07-03    15   \n",
       "\n",
       "          device_make  platform_os                browser  yes  no  \\\n",
       "0  Generic Smartphone            6          Chrome Mobile    0   0   \n",
       "1  Generic Smartphone            6          Chrome Mobile    0   0   \n",
       "2               E5823            6  Chrome Mobile WebView    0   1   \n",
       "3   Samsung SM-A705FN            6               Facebook    0   0   \n",
       "4  Generic Smartphone            6          Chrome Mobile    0   0   \n",
       "\n",
       "   no_response  \n",
       "0            1  \n",
       "1            1  \n",
       "2            0  \n",
       "3            1  \n",
       "4            1  "
      ]
     },
     "execution_count": 92,
     "metadata": {},
     "output_type": "execute_result"
    }
   ],
   "source": [
    " df.head()"
   ]
  },
  {
   "cell_type": "code",
   "execution_count": 93,
   "id": "2838b6c3",
   "metadata": {},
   "outputs": [
    {
     "data": {
      "text/plain": [
       "((8077, 10), (8077, 10))"
      ]
     },
     "execution_count": 93,
     "metadata": {},
     "output_type": "execute_result"
    }
   ],
   "source": [
    "dataset.shape, df.shape"
   ]
  },
  {
   "cell_type": "code",
   "execution_count": 94,
   "id": "2ec03305",
   "metadata": {},
   "outputs": [
    {
     "name": "stderr",
     "output_type": "stream",
     "text": [
      "/Users/user/anaconda3/lib/python3.10/site-packages/seaborn/axisgrid.py:118: UserWarning: The figure layout has changed to tight\n",
      "  self._figure.tight_layout(*args, **kwargs)\n"
     ]
    },
    {
     "data": {
      "image/png": "[encoded data removed]",
      "text/plain": [
       "<Figure size 1108.38x500 with 2 Axes>"
      ]
     },
     "metadata": {},
     "output_type": "display_data"
    }
   ],
   "source": [
    "import seaborn as sns\n",
    "sns.displot(dataset.sort_values(by=\"experiment\"),\n",
    "            x=\"response\",\n",
    "            col=\"experiment\",\n",
    "            hue=\"experiment\",\n",
    "            alpha=1)\n",
    "plt.show()"
   ]
  },
  {
   "cell_type": "code",
   "execution_count": 95,
   "id": "9d2326c0",
   "metadata": {},
   "outputs": [
    {
     "data": {
      "text/html": [
       "<div>\n",
       "<style scoped>\n",
       "    .dataframe tbody tr th:only-of-type {\n",
       "        vertical-align: middle;\n",
       "    }\n",
       "\n",
       "    .dataframe tbody tr th {\n",
       "        vertical-align: top;\n",
       "    }\n",
       "\n",
       "    .dataframe thead th {\n",
       "        text-align: right;\n",
       "    }\n",
       "</style>\n",
       "<table border=\"1\" class=\"dataframe\">\n",
       "  <thead>\n",
       "    <tr style=\"text-align: right;\">\n",
       "      <th>response %</th>\n",
       "      <th>yes</th>\n",
       "      <th>no</th>\n",
       "      <th>no response</th>\n",
       "    </tr>\n",
       "    <tr>\n",
       "      <th>experiment</th>\n",
       "      <th></th>\n",
       "      <th></th>\n",
       "      <th></th>\n",
       "    </tr>\n",
       "  </thead>\n",
       "  <tbody>\n",
       "    <tr>\n",
       "      <th>control</th>\n",
       "      <td>6.48</td>\n",
       "      <td>7.91</td>\n",
       "      <td>85.61</td>\n",
       "    </tr>\n",
       "    <tr>\n",
       "      <th>exposed</th>\n",
       "      <td>7.69</td>\n",
       "      <td>8.71</td>\n",
       "      <td>83.60</td>\n",
       "    </tr>\n",
       "  </tbody>\n",
       "</table>\n",
       "</div>"
      ],
      "text/plain": [
       "response %   yes    no  no response\n",
       "experiment                         \n",
       "control     6.48  7.91        85.61\n",
       "exposed     7.69  8.71        83.60"
      ]
     },
     "metadata": {},
     "output_type": "display_data"
    }
   ],
   "source": [
    "def data_percent(rows, decimal=2):\n",
    "    return round(rows/max(rows)*100, decimal)\n",
    "\n",
    "# Make the pivot table\n",
    "dataset_response = pd.pivot_table(data=dataset,\n",
    "                                  index=\"experiment\",\n",
    "                                  columns=\"response\",\n",
    "                                  aggfunc=\"count\")[\"auction_id\"]\n",
    "\n",
    "# Sum all response to columns total\n",
    "dataset_response[\"total\"] = dataset_response.apply(sum, axis=1)\n",
    "\n",
    "# Convert all response to percentage\n",
    "dataset_response = dataset_response.apply(data_percent, axis=1)\n",
    "\n",
    "# Change the columns name to easier diff\n",
    "dataset_response.columns.name = \"response %\"\n",
    "\n",
    "# Sort the values\n",
    "dataset_response = dataset_response[[\"yes\", \"no\", \"no response\"]] \n",
    "\n",
    "# Show the output\n",
    "display(dataset_response)"
   ]
  },
  {
   "cell_type": "code",
   "execution_count": 96,
   "id": "1314553d",
   "metadata": {},
   "outputs": [],
   "source": [
    "# Convert response to number\n",
    "dataset = dataset[(dataset[\"yes\"] == 1) | (dataset[\"no\"] == 1)]"
   ]
  },
  {
   "cell_type": "code",
   "execution_count": 98,
   "id": "4088c1c3",
   "metadata": {},
   "outputs": [
    {
     "name": "stderr",
     "output_type": "stream",
     "text": [
      "/Users/user/anaconda3/lib/python3.10/site-packages/seaborn/axisgrid.py:118: UserWarning: The figure layout has changed to tight\n",
      "  self._figure.tight_layout(*args, **kwargs)\n"
     ]
    },
    {
     "data": {
      "image/png": "[encoded data removed]",
      "text/plain": [
       "<Figure size 558.375x250 with 2 Axes>"
      ]
     },
     "metadata": {},
     "output_type": "display_data"
    }
   ],
   "source": [
    "sns.displot(data=dataset.sort_values(by=\"experiment\"),\n",
    "            x=\"response\",\n",
    "            col=\"experiment\",\n",
    "            hue=\"experiment\",\n",
    "            alpha=1,\n",
    "            aspect=0.9,\n",
    "            height=2.5)\n",
    "plt.show()"
   ]
  },
  {
   "cell_type": "code",
   "execution_count": 99,
   "id": "56576262",
   "metadata": {},
   "outputs": [
    {
     "data": {
      "text/html": [
       "<div>\n",
       "<style scoped>\n",
       "    .dataframe tbody tr th:only-of-type {\n",
       "        vertical-align: middle;\n",
       "    }\n",
       "\n",
       "    .dataframe tbody tr th {\n",
       "        vertical-align: top;\n",
       "    }\n",
       "\n",
       "    .dataframe thead th {\n",
       "        text-align: right;\n",
       "    }\n",
       "</style>\n",
       "<table border=\"1\" class=\"dataframe\">\n",
       "  <thead>\n",
       "    <tr style=\"text-align: right;\">\n",
       "      <th>response %</th>\n",
       "      <th>yes</th>\n",
       "      <th>no</th>\n",
       "    </tr>\n",
       "    <tr>\n",
       "      <th>experiment</th>\n",
       "      <th></th>\n",
       "      <th></th>\n",
       "    </tr>\n",
       "  </thead>\n",
       "  <tbody>\n",
       "    <tr>\n",
       "      <th>control</th>\n",
       "      <td>45.05</td>\n",
       "      <td>54.95</td>\n",
       "    </tr>\n",
       "    <tr>\n",
       "      <th>exposed</th>\n",
       "      <td>46.88</td>\n",
       "      <td>53.12</td>\n",
       "    </tr>\n",
       "  </tbody>\n",
       "</table>\n",
       "</div>"
      ],
      "text/plain": [
       "response %    yes     no\n",
       "experiment              \n",
       "control     45.05  54.95\n",
       "exposed     46.88  53.12"
      ]
     },
     "metadata": {},
     "output_type": "display_data"
    }
   ],
   "source": [
    "# Make the pivot table\n",
    "df_response = pd.pivot_table(data=dataset,\n",
    "                             index=\"experiment\",\n",
    "                             columns=\"response\",\n",
    "                             aggfunc=\"count\")[\"auction_id\"]\n",
    "\n",
    "# Sum the all response\n",
    "df_response[\"total\"] = df_response.apply(sum, axis=1)\n",
    "\n",
    "# Convert all response to percentage\n",
    "df_response = df_response.apply(data_percent, axis=1)\n",
    "\n",
    "# Change the columns name to easier diff\n",
    "df_response.columns.name = \"response %\"\n",
    "\n",
    "# Change the sort values\n",
    "df_response = df_response[[\"yes\", \"no\"]] \n",
    "\n",
    "# Show the output\n",
    "display(df_response)"
   ]
  },
  {
   "cell_type": "code",
   "execution_count": 100,
   "id": "693b523e",
   "metadata": {},
   "outputs": [
    {
     "name": "stderr",
     "output_type": "stream",
     "text": [
      "/Users/user/anaconda3/lib/python3.10/site-packages/seaborn/axisgrid.py:118: UserWarning: The figure layout has changed to tight\n",
      "  self._figure.tight_layout(*args, **kwargs)\n"
     ]
    },
    {
     "data": {
      "image/png": "[encoded data removed]",
      "text/plain": [
       "<Figure size 300x300 with 1 Axes>"
      ]
     },
     "metadata": {},
     "output_type": "display_data"
    }
   ],
   "source": [
    "# Calculate how many users response in the experiment\n",
    "sns.catplot(data=dataset.sort_values(by=\"experiment\"),\n",
    "            x=\"experiment\",\n",
    "            kind=\"count\",\n",
    "            hue=\"experiment\",\n",
    "            height=3).set(title=\"Amount users in the experiment group exposed and control\")\n",
    "plt.show()"
   ]
  },
  {
   "cell_type": "code",
   "execution_count": 104,
   "id": "a754d954",
   "metadata": {},
   "outputs": [
    {
     "name": "stdout",
     "output_type": "stream",
     "text": [
      "Percent of users in control group: 47.14%\n",
      "Percent of users in exposed group: 52.86%\n"
     ]
    }
   ],
   "source": [
    "print(f\"Percent of users in control group: {(len(dataset[dataset['experiment'] == 'control'])/len(dataset))*100:.2f}%\")\n",
    "print(f\"Percent of users in exposed group: {(len(dataset[dataset['experiment'] == 'exposed'])/len(dataset))*100:.2f}%\")"
   ]
  },
  {
   "cell_type": "code",
   "execution_count": 105,
   "id": "1be0f6cd",
   "metadata": {},
   "outputs": [
    {
     "name": "stdout",
     "output_type": "stream",
     "text": [
      "First day of experiments: 2020-07-03\n",
      "Last day of experiments: 2020-07-10\n"
     ]
    }
   ],
   "source": [
    "# Time experiment start and end\n",
    "print(f\"First day of experiments: {dataset['date'].min()}\")\n",
    "print(f\"Last day of experiments: {dataset['date'].max()}\")"
   ]
  },
  {
   "cell_type": "code",
   "execution_count": 106,
   "id": "ea55c31e",
   "metadata": {},
   "outputs": [
    {
     "data": {
      "image/png": "[encoded data removed]",
      "text/plain": [
       "<Figure size 800x600 with 1 Axes>"
      ]
     },
     "metadata": {},
     "output_type": "display_data"
    }
   ],
   "source": [
    "# Amounts user in different days\n",
    "date_control = dataset.groupby([\"experiment\", \"date\"])[\"date\"].count()[\"control\"]\n",
    "date_exposed = dataset.groupby([\"experiment\", \"date\"])[\"date\"].count()[\"exposed\"]\n",
    "\n",
    "# Visualize\n",
    "fig, ax = plt.subplots(figsize=(8, 6))\n",
    "\n",
    "# Plot the data\n",
    "g = sns.lineplot(data=date_control,\n",
    "                 ax=ax,\n",
    "                 label=\"Control\",\n",
    "                 linewidth=3)\n",
    "g = sns.lineplot(data=date_exposed,\n",
    "                 ax=ax,\n",
    "                 label=\"Exposed\",\n",
    "                 linewidth=3)\n",
    "ax.grid(True)\n",
    "ax.set_ylabel(\"count\")\n",
    "ax.set_title(\"Amount of Users Vs Date\")\n",
    "plt.show()"
   ]
  },
  {
   "cell_type": "code",
   "execution_count": 107,
   "id": "5f9cec20",
   "metadata": {},
   "outputs": [
    {
     "name": "stderr",
     "output_type": "stream",
     "text": [
      "/Users/user/anaconda3/lib/python3.10/site-packages/seaborn/axisgrid.py:118: UserWarning: The figure layout has changed to tight\n",
      "  self._figure.tight_layout(*args, **kwargs)\n"
     ]
    },
    {
     "data": {
      "text/plain": [
       "Text(-22, 60, 'Anomaly at 15 h:\\n249 impressions/h       ->')"
      ]
     },
     "execution_count": 107,
     "metadata": {},
     "output_type": "execute_result"
    },
    {
     "data": {
      "image/png": "[encoded data removed]",
      "text/plain": [
       "<Figure size 1608.37x1500 with 8 Axes>"
      ]
     },
     "metadata": {},
     "output_type": "display_data"
    }
   ],
   "source": [
    "sns.displot(data=dataset.sort_values(by=[\"date\", \"experiment\"]),\n",
    "            x=\"hour\",\n",
    "            col=\"date\",\n",
    "            bins=range(24),\n",
    "            hue=\"experiment\",\n",
    "            alpha=1,\n",
    "            col_wrap=3,\n",
    "            facet_kws=dict(sharey=True),\n",
    "            multiple=\"dodge\")\n",
    "plt.ylim([0, 20])\n",
    "\n",
    "# Anomaly value\n",
    "anomaly = dataset[dataset[\"experiment\"] == \"control\"].groupby(\"hour\")[\"experiment\"].count().max()\n",
    "\n",
    "plt.text(-22, 60, f\"Anomaly at 15 h:\\n{anomaly} impressions/h       ->\")"
   ]
  },
  {
   "cell_type": "code",
   "execution_count": 108,
   "id": "773b06d9",
   "metadata": {},
   "outputs": [],
   "source": [
    "from wordcloud import WordCloud\n",
    "def word_cloud(data, title):\n",
    "    # Create the text variable\n",
    "    text = \" \".join(device_make.split(' ')[0] for device_make in data)\n",
    "\n",
    "    # Create word_cloud using **.generate()** method\n",
    "    word_cloud = WordCloud(collocations=False, \n",
    "                           background_color='#F3F3F3').generate(text)\n",
    "\n",
    "    # Display Word Cloud\n",
    "    plt.imshow(word_cloud, interpolation='none')\n",
    "    plt.title(title+'\\n')\n",
    "    plt.axis(\"off\")\n",
    "    plt.show()"
   ]
  },
  {
   "cell_type": "code",
   "execution_count": 109,
   "id": "ca8ed41a",
   "metadata": {},
   "outputs": [
    {
     "data": {
      "image/png": "[encoded data removed]",
      "text/plain": [
       "<Figure size 640x480 with 1 Axes>"
      ]
     },
     "metadata": {},
     "output_type": "display_data"
    },
    {
     "data": {
      "image/png": "[encoded data removed]",
      "text/plain": [
       "<Figure size 640x480 with 1 Axes>"
      ]
     },
     "metadata": {},
     "output_type": "display_data"
    }
   ],
   "source": [
    "word_cloud(dataset[dataset[\"experiment\"]==\"control\"].device_make,\n",
    "           \"Most Frequent Device in Control Group\")\n",
    "word_cloud(dataset[dataset[\"experiment\"]==\"exposed\"].device_make,\n",
    "           \"Most Frequent Device in Exposed Group\")"
   ]
  },
  {
   "cell_type": "code",
   "execution_count": 110,
   "id": "dedac245",
   "metadata": {},
   "outputs": [
    {
     "data": {
      "text/plain": [
       "array(['Chrome Mobile WebView', 'Chrome Mobile', 'Facebook',\n",
       "       'Samsung Internet', 'Mobile Safari', 'Chrome',\n",
       "       'Mobile Safari UI/WKWebView', 'Chrome Mobile iOS'], dtype=object)"
      ]
     },
     "execution_count": 110,
     "metadata": {},
     "output_type": "execute_result"
    }
   ],
   "source": [
    "dataset[\"browser\"].unique()"
   ]
  },
  {
   "cell_type": "code",
   "execution_count": 111,
   "id": "f5f85a6e",
   "metadata": {},
   "outputs": [],
   "source": [
    "def browsers(row):\n",
    "    browsers= {'Chrome Mobile WebView': \"Chrome\", \n",
    "               'Chrome Mobile': \"Chrome\", \n",
    "               'Facebook': \"Facebook\",       \n",
    "               'Samsung Internet': \"Samsung\", \n",
    "               'Mobile Safari': \"Safari\", \n",
    "               'Chrome': \"Chrome\",       \n",
    "               'Mobile Safari UI/WKWebView': \"Safari\", \n",
    "               'Chrome Mobile iOS': \"Chrome\"}\n",
    "    return browsers[row]\n",
    "\n",
    "# Convert to general browser\n",
    "dataset[\"general_browser\"] = dataset[\"browser\"].apply(browsers)"
   ]
  },
  {
   "cell_type": "code",
   "execution_count": 112,
   "id": "cf3062b9",
   "metadata": {},
   "outputs": [
    {
     "name": "stderr",
     "output_type": "stream",
     "text": [
      "/Users/user/anaconda3/lib/python3.10/site-packages/seaborn/axisgrid.py:118: UserWarning: The figure layout has changed to tight\n",
      "  self._figure.tight_layout(*args, **kwargs)\n"
     ]
    },
    {
     "data": {
      "image/png": "[encoded data removed]",
      "text/plain": [
       "<Figure size 1108.38x500 with 2 Axes>"
      ]
     },
     "metadata": {},
     "output_type": "display_data"
    }
   ],
   "source": [
    "# Visualize\n",
    "g = sns.displot(dataset.sort_values(by=\"experiment\"),\n",
    "                x=\"general_browser\",\n",
    "                col=\"experiment\",\n",
    "                hue=\"experiment\", \n",
    "                alpha=1)\n",
    "\n",
    "# Rotate the x label\n",
    "g.set_xticklabels(rotation=45)\n",
    "\n",
    "# Show the plot\n",
    "plt.show()"
   ]
  },
  {
   "cell_type": "code",
   "execution_count": 113,
   "id": "ca4075b1",
   "metadata": {},
   "outputs": [
    {
     "data": {
      "text/html": [
       "<div>\n",
       "<style scoped>\n",
       "    .dataframe tbody tr th:only-of-type {\n",
       "        vertical-align: middle;\n",
       "    }\n",
       "\n",
       "    .dataframe tbody tr th {\n",
       "        vertical-align: top;\n",
       "    }\n",
       "\n",
       "    .dataframe thead th {\n",
       "        text-align: right;\n",
       "    }\n",
       "</style>\n",
       "<table border=\"1\" class=\"dataframe\">\n",
       "  <thead>\n",
       "    <tr style=\"text-align: right;\">\n",
       "      <th>browser usage %</th>\n",
       "      <th>Samsung</th>\n",
       "      <th>Chrome</th>\n",
       "      <th>Facebook</th>\n",
       "      <th>Safari</th>\n",
       "    </tr>\n",
       "    <tr>\n",
       "      <th>experiment</th>\n",
       "      <th></th>\n",
       "      <th></th>\n",
       "      <th></th>\n",
       "      <th></th>\n",
       "    </tr>\n",
       "  </thead>\n",
       "  <tbody>\n",
       "    <tr>\n",
       "      <th>control</th>\n",
       "      <td>15.02</td>\n",
       "      <td>63.65</td>\n",
       "      <td>19.11</td>\n",
       "      <td>2.22</td>\n",
       "    </tr>\n",
       "    <tr>\n",
       "      <th>exposed</th>\n",
       "      <td>8.68</td>\n",
       "      <td>84.02</td>\n",
       "      <td>6.70</td>\n",
       "      <td>0.61</td>\n",
       "    </tr>\n",
       "  </tbody>\n",
       "</table>\n",
       "</div>"
      ],
      "text/plain": [
       "browser usage %  Samsung  Chrome  Facebook  Safari\n",
       "experiment                                        \n",
       "control            15.02   63.65     19.11    2.22\n",
       "exposed             8.68   84.02      6.70    0.61"
      ]
     },
     "metadata": {},
     "output_type": "display_data"
    }
   ],
   "source": [
    "# Make pivot table\n",
    "df_browser = pd.pivot_table(data=dataset,\n",
    "                            index=\"experiment\",\n",
    "                            columns=\"general_browser\",\n",
    "                            aggfunc=\"count\")[\"auction_id\"]\n",
    "\n",
    "# Calculate the total browser\n",
    "df_browser[\"total\"] = df_browser.apply(sum, axis=1)\n",
    "\n",
    "# Calculate the percent\n",
    "df_browser = df_browser.apply(data_percent, axis=1)\n",
    "\n",
    "# Change columns name to make table more readable\n",
    "df_browser.columns.name = 'browser usage %'\n",
    "\n",
    "# Sort the columns name\n",
    "df_browser = df_browser[['Samsung', 'Chrome', 'Facebook', 'Safari']]\n",
    "\n",
    "# Shows the table\n",
    "display(df_browser)"
   ]
  },
  {
   "cell_type": "code",
   "execution_count": 114,
   "id": "9941a148",
   "metadata": {},
   "outputs": [
    {
     "name": "stdout",
     "output_type": "stream",
     "text": [
      "#of os: 2\n"
     ]
    },
    {
     "name": "stderr",
     "output_type": "stream",
     "text": [
      "/Users/user/anaconda3/lib/python3.10/site-packages/seaborn/axisgrid.py:118: UserWarning: The figure layout has changed to tight\n",
      "  self._figure.tight_layout(*args, **kwargs)\n"
     ]
    },
    {
     "data": {
      "text/plain": [
       "platform_os\n",
       "6    0.986323\n",
       "5    0.013677\n",
       "Name: proportion, dtype: float64"
      ]
     },
     "execution_count": 114,
     "metadata": {},
     "output_type": "execute_result"
    },
    {
     "data": {
      "image/png": "[encoded data removed]",
      "text/plain": [
       "<Figure size 608.375x500 with 1 Axes>"
      ]
     },
     "metadata": {},
     "output_type": "display_data"
    }
   ],
   "source": [
    "os_counts = dataset['platform_os'].value_counts(normalize=True)\n",
    "\n",
    "sns.displot(data=dataset,\n",
    "            x='platform_os',\n",
    "            hue=\"experiment\",\n",
    "            alpha=1,\n",
    "            element=\"step\")\n",
    "print('#of os:',len(os_counts))\n",
    "os_counts\n"
   ]
  },
  {
   "cell_type": "markdown",
   "id": "b601e2ea",
   "metadata": {},
   "source": [
    "# A/B Test"
   ]
  },
  {
   "cell_type": "code",
   "execution_count": 115,
   "id": "53587a2b",
   "metadata": {},
   "outputs": [
    {
     "data": {
      "text/html": [
       "<div>\n",
       "<style scoped>\n",
       "    .dataframe tbody tr th:only-of-type {\n",
       "        vertical-align: middle;\n",
       "    }\n",
       "\n",
       "    .dataframe tbody tr th {\n",
       "        vertical-align: top;\n",
       "    }\n",
       "\n",
       "    .dataframe thead th {\n",
       "        text-align: right;\n",
       "    }\n",
       "</style>\n",
       "<table border=\"1\" class=\"dataframe\">\n",
       "  <thead>\n",
       "    <tr style=\"text-align: right;\">\n",
       "      <th></th>\n",
       "      <th>auction_id</th>\n",
       "      <th>experiment</th>\n",
       "      <th>date</th>\n",
       "      <th>hour</th>\n",
       "      <th>device_make</th>\n",
       "      <th>platform_os</th>\n",
       "      <th>browser</th>\n",
       "      <th>yes</th>\n",
       "      <th>no</th>\n",
       "      <th>no_response</th>\n",
       "    </tr>\n",
       "  </thead>\n",
       "  <tbody>\n",
       "    <tr>\n",
       "      <th>0</th>\n",
       "      <td>0008ef63-77a7-448b-bd1e-075f42c55e39</td>\n",
       "      <td>exposed</td>\n",
       "      <td>2020-07-10</td>\n",
       "      <td>8</td>\n",
       "      <td>Generic Smartphone</td>\n",
       "      <td>6</td>\n",
       "      <td>Chrome Mobile</td>\n",
       "      <td>0</td>\n",
       "      <td>0</td>\n",
       "      <td>1</td>\n",
       "    </tr>\n",
       "    <tr>\n",
       "      <th>1</th>\n",
       "      <td>000eabc5-17ce-4137-8efe-44734d914446</td>\n",
       "      <td>exposed</td>\n",
       "      <td>2020-07-07</td>\n",
       "      <td>10</td>\n",
       "      <td>Generic Smartphone</td>\n",
       "      <td>6</td>\n",
       "      <td>Chrome Mobile</td>\n",
       "      <td>0</td>\n",
       "      <td>0</td>\n",
       "      <td>1</td>\n",
       "    </tr>\n",
       "    <tr>\n",
       "      <th>2</th>\n",
       "      <td>0016d14a-ae18-4a02-a204-6ba53b52f2ed</td>\n",
       "      <td>exposed</td>\n",
       "      <td>2020-07-05</td>\n",
       "      <td>2</td>\n",
       "      <td>E5823</td>\n",
       "      <td>6</td>\n",
       "      <td>Chrome Mobile WebView</td>\n",
       "      <td>0</td>\n",
       "      <td>1</td>\n",
       "      <td>0</td>\n",
       "    </tr>\n",
       "    <tr>\n",
       "      <th>3</th>\n",
       "      <td>00187412-2932-4542-a8ef-3633901c98d9</td>\n",
       "      <td>control</td>\n",
       "      <td>2020-07-03</td>\n",
       "      <td>15</td>\n",
       "      <td>Samsung SM-A705FN</td>\n",
       "      <td>6</td>\n",
       "      <td>Facebook</td>\n",
       "      <td>0</td>\n",
       "      <td>0</td>\n",
       "      <td>1</td>\n",
       "    </tr>\n",
       "    <tr>\n",
       "      <th>4</th>\n",
       "      <td>001a7785-d3fe-4e11-a344-c8735acacc2c</td>\n",
       "      <td>control</td>\n",
       "      <td>2020-07-03</td>\n",
       "      <td>15</td>\n",
       "      <td>Generic Smartphone</td>\n",
       "      <td>6</td>\n",
       "      <td>Chrome Mobile</td>\n",
       "      <td>0</td>\n",
       "      <td>0</td>\n",
       "      <td>1</td>\n",
       "    </tr>\n",
       "  </tbody>\n",
       "</table>\n",
       "</div>"
      ],
      "text/plain": [
       "                             auction_id experiment        date  hour  \\\n",
       "0  0008ef63-77a7-448b-bd1e-075f42c55e39    exposed  2020-07-10     8   \n",
       "1  000eabc5-17ce-4137-8efe-44734d914446    exposed  2020-07-07    10   \n",
       "2  0016d14a-ae18-4a02-a204-6ba53b52f2ed    exposed  2020-07-05     2   \n",
       "3  00187412-2932-4542-a8ef-3633901c98d9    control  2020-07-03    15   \n",
       "4  001a7785-d3fe-4e11-a344-c8735acacc2c    control  2020-07-03    15   \n",
       "\n",
       "          device_make  platform_os                browser  yes  no  \\\n",
       "0  Generic Smartphone            6          Chrome Mobile    0   0   \n",
       "1  Generic Smartphone            6          Chrome Mobile    0   0   \n",
       "2               E5823            6  Chrome Mobile WebView    0   1   \n",
       "3   Samsung SM-A705FN            6               Facebook    0   0   \n",
       "4  Generic Smartphone            6          Chrome Mobile    0   0   \n",
       "\n",
       "   no_response  \n",
       "0            1  \n",
       "1            1  \n",
       "2            0  \n",
       "3            1  \n",
       "4            1  "
      ]
     },
     "execution_count": 115,
     "metadata": {},
     "output_type": "execute_result"
    }
   ],
   "source": [
    "df.head()"
   ]
  },
  {
   "cell_type": "code",
   "execution_count": 116,
   "id": "21a740a7",
   "metadata": {},
   "outputs": [],
   "source": [
    "# Import the library\n",
    "from scipy.stats import chi2_contingency\n",
    "\n",
    "# Split the data into exposed and control\n",
    "df_exp = df[df[\"experiment\"]==\"exposed\"]\n",
    "df_ctr = df[df[\"experiment\"]==\"control\"]"
   ]
  },
  {
   "cell_type": "code",
   "execution_count": 117,
   "id": "1a8cfe37",
   "metadata": {},
   "outputs": [
    {
     "data": {
      "text/plain": [
       "((8077, 10), (4006, 10), (4071, 10))"
      ]
     },
     "execution_count": 117,
     "metadata": {},
     "output_type": "execute_result"
    }
   ],
   "source": [
    "df.shape, df_exp.shape, df_ctr.shape"
   ]
  },
  {
   "cell_type": "markdown",
   "id": "98a0c55a",
   "metadata": {},
   "source": [
    "## Chi-Square Contingency Methode"
   ]
  },
  {
   "cell_type": "markdown",
   "id": "a3bf9eab",
   "metadata": {},
   "source": [
    "### Split the data into yes, no and no response"
   ]
  },
  {
   "cell_type": "code",
   "execution_count": 119,
   "id": "e5d7300f",
   "metadata": {},
   "outputs": [
    {
     "data": {
      "text/plain": [
       "([308, 349, 3349], [264, 322, 3485])"
      ]
     },
     "execution_count": 119,
     "metadata": {},
     "output_type": "execute_result"
    }
   ],
   "source": [
    "# Calculate the sum of exposed and control group\n",
    "exp_response = [df_exp['yes'].sum(), df_exp['no'].sum(), df_exp['no_response'].sum()]\n",
    "ctr_response = [df_ctr['yes'].sum(), df_ctr['no'].sum(), df_ctr['no_response'].sum()]\n",
    "exp_response, ctr_response"
   ]
  },
  {
   "cell_type": "code",
   "execution_count": 120,
   "id": "195754c1",
   "metadata": {},
   "outputs": [
    {
     "data": {
      "text/plain": [
       "array([[0.07688467, 0.08711932, 0.83599601],\n",
       "       [0.06484893, 0.07909605, 0.85605502]])"
      ]
     },
     "execution_count": 120,
     "metadata": {},
     "output_type": "execute_result"
    }
   ],
   "source": [
    "# Calculate the observed value\n",
    "obs = np.array([exp_response, ctr_response])\n",
    "obs/obs.sum(axis=1).reshape(2, 1)"
   ]
  },
  {
   "cell_type": "markdown",
   "id": "a9a2f763",
   "metadata": {},
   "source": [
    "### Chi-Square Homogenity test yes, no and no response"
   ]
  },
  {
   "cell_type": "code",
   "execution_count": 121,
   "id": "06e8120b",
   "metadata": {},
   "outputs": [
    {
     "name": "stdout",
     "output_type": "stream",
     "text": [
      "Chi-square statistic: 6.6548619304511725\n",
      "p-value: 0.03588517701663859\n",
      "DOF: 2\n",
      "Expected Frequencies: [[ 283.69840287  332.80004952 3389.5015476 ]\n",
      " [ 288.30159713  338.19995048 3444.4984524 ]]\n"
     ]
    }
   ],
   "source": [
    "# Observe the proportion value\n",
    "result = chi2_contingency(obs)\n",
    "\n",
    "# Print the value\n",
    "print('Chi-square statistic:',result[0])\n",
    "print('p-value:',result[1])\n",
    "print('DOF:',result[2])\n",
    "print('Expected Frequencies:',result[3])"
   ]
  },
  {
   "cell_type": "markdown",
   "id": "907926ea",
   "metadata": {},
   "source": [
    "### Chi-Square Homogenity test yes and no "
   ]
  },
  {
   "cell_type": "code",
   "execution_count": 122,
   "id": "2dfd8fb1",
   "metadata": {},
   "outputs": [
    {
     "data": {
      "text/plain": [
       "array([[0.45051195, 0.54948805],\n",
       "       [0.46879756, 0.53120244]])"
      ]
     },
     "execution_count": 122,
     "metadata": {},
     "output_type": "execute_result"
    }
   ],
   "source": [
    "obs = np.array([ctr_response[:2], exp_response[:2]])\n",
    "obs/obs.sum(axis=1).reshape(2, 1)"
   ]
  },
  {
   "cell_type": "code",
   "execution_count": 123,
   "id": "2993754c",
   "metadata": {},
   "outputs": [
    {
     "name": "stdout",
     "output_type": "stream",
     "text": [
      "Chi-square statistic: 0.3465426444731172\n",
      "p-value: 0.5560768104229136\n",
      "DOF: 1\n",
      "Frequencies: [[269.66371681 316.33628319]\n",
      " [302.33628319 354.66371681]]\n"
     ]
    }
   ],
   "source": [
    "# Calculate the observe value\n",
    "result = chi2_contingency(obs)\n",
    "\n",
    "# Print the result\n",
    "print(f\"Chi-square statistic: {result[0]}\")\n",
    "print(f\"p-value: {result[1]}\")\n",
    "print(f\"DOF: {result[2]}\")\n",
    "print(f\"Frequencies: {result[3]}\")"
   ]
  },
  {
   "cell_type": "markdown",
   "id": "72e415a0",
   "metadata": {},
   "source": [
    "### Proportion Test"
   ]
  },
  {
   "cell_type": "code",
   "execution_count": 124,
   "id": "edac2965",
   "metadata": {},
   "outputs": [
    {
     "name": "stdout",
     "output_type": "stream",
     "text": [
      "test of proportions of YES among yes, no, and no_response\n",
      "stat 2.108290999972843\n",
      "p-value: 0.035\n"
     ]
    }
   ],
   "source": [
    "# Calculate the total response\n",
    "ctr_response_total = sum(ctr_response)\n",
    "exp_response_total = sum(exp_response)\n",
    "\n",
    "# Import the test library\n",
    "from statsmodels.stats.proportion import proportions_ztest\n",
    "count = np.array([exp_response[0], ctr_response[0]])\n",
    "nobs = np.array([exp_response_total, ctr_response_total])\n",
    "\n",
    "# Test the vakue\n",
    "stat, pval = proportions_ztest(count, nobs)\n",
    "print('test of proportions of YES among yes, no, and no_response')\n",
    "print('stat',stat)\n",
    "print('p-value: {0:0.3f}'.format(pval))"
   ]
  },
  {
   "cell_type": "code",
   "execution_count": 125,
   "id": "cec78cfb",
   "metadata": {},
   "outputs": [
    {
     "name": "stdout",
     "output_type": "stream",
     "text": [
      "test of proportions of NO among yes and no\n",
      "stat 1.3062601366477093\n",
      "p-value: 0.191\n"
     ]
    }
   ],
   "source": [
    "# Overwrite the variable with new value in the array\n",
    "count = np.array([exp_response[1], ctr_response[1]])\n",
    "nobs = np.array([exp_response_total, ctr_response_total])\n",
    "\n",
    "# Test the value\n",
    "stat, pval = proportions_ztest(count, nobs)\n",
    "print('test of proportions of NO among yes and no')\n",
    "print('stat',stat)\n",
    "print('p-value: {0:0.3f}'.format(pval))"
   ]
  },
  {
   "cell_type": "markdown",
   "id": "ee8a6d7e",
   "metadata": {},
   "source": [
    "#### One-sided Proportion Test"
   ]
  },
  {
   "cell_type": "markdown",
   "id": "55556532",
   "metadata": {},
   "source": [
    "##### Test of proportion of YES among yes, no and no response"
   ]
  },
  {
   "cell_type": "code",
   "execution_count": 126,
   "id": "8f1b2e81",
   "metadata": {},
   "outputs": [
    {
     "name": "stdout",
     "output_type": "stream",
     "text": [
      "Test of proportion of YES among yes, no and no response\n",
      "Stats: 2.108290999972843\n",
      "p-value: 0.018\n"
     ]
    }
   ],
   "source": [
    "count = np.array([exp_response[0], ctr_response[0]])\n",
    "nobs = np.array([exp_response_total, ctr_response_total])\n",
    "\n",
    "# Test the value\n",
    "stats, pval = proportions_ztest(count, nobs, alternative=\"larger\")\n",
    "print(\"Test of proportion of YES among yes, no and no response\")\n",
    "print(f\"Stats: {stats}\")\n",
    "print(f\"p-value: {pval:.3f}\")"
   ]
  },
  {
   "cell_type": "code",
   "execution_count": 127,
   "id": "e7bc225b",
   "metadata": {},
   "outputs": [
    {
     "name": "stdout",
     "output_type": "stream",
     "text": [
      "Test of proportion of YES among yes, no and no response\n",
      "Stats: 2.108290999972843\n",
      "p-value: 0.982\n"
     ]
    }
   ],
   "source": [
    "count = np.array([exp_response[0], ctr_response[0]])\n",
    "nobs = np.array([exp_response_total, ctr_response_total])\n",
    "\n",
    "# Test the value\n",
    "stats, pval = proportions_ztest(count, nobs, alternative=\"smaller\")\n",
    "print(\"Test of proportion of YES among yes, no and no response\")\n",
    "print(f\"Stats: {stats}\")\n",
    "print(f\"p-value: {pval:.3f}\")"
   ]
  },
  {
   "cell_type": "code",
   "execution_count": 128,
   "id": "58d7620b",
   "metadata": {},
   "outputs": [
    {
     "name": "stdout",
     "output_type": "stream",
     "text": [
      "Test of proportion of YES among yes, no and no response\n",
      "Stats: 2.108290999972843\n",
      "p-value: 0.035\n"
     ]
    }
   ],
   "source": [
    "count = np.array([exp_response[0], ctr_response[0]])\n",
    "nobs = np.array([exp_response_total, ctr_response_total])\n",
    "\n",
    "# Test the value\n",
    "stats, pval = proportions_ztest(count, nobs, alternative=\"two-sided\")\n",
    "print(\"Test of proportion of YES among yes, no and no response\")\n",
    "print(f\"Stats: {stats}\")\n",
    "print(f\"p-value: {pval:.3f}\")"
   ]
  },
  {
   "cell_type": "markdown",
   "id": "159536b2",
   "metadata": {},
   "source": [
    "##### Test of proportion of Yes among yes and no"
   ]
  },
  {
   "cell_type": "code",
   "execution_count": 129,
   "id": "b64d7304",
   "metadata": {},
   "outputs": [
    {
     "name": "stdout",
     "output_type": "stream",
     "text": [
      "Test of proportion of Yes among yes and no\n",
      "Stats: -0.645680181221035\n",
      "p-value: 0.518\n"
     ]
    }
   ],
   "source": [
    "# Calculate the sum of yes and no proportion\n",
    "prop_ctr_response = ctr_response[0] + ctr_response[1]\n",
    "prop_exp_response = exp_response[0] + exp_response[1]\n",
    "\n",
    "# Overwrite the variable\n",
    "count = np.array([exp_response[1], ctr_response[1]])\n",
    "nobs = np.array([prop_exp_response, prop_ctr_response])\n",
    "\n",
    "# Test the value\n",
    "stats, pval = proportions_ztest(count, nobs)\n",
    "print(\"Test of proportion of Yes among yes and no\")\n",
    "print(f\"Stats: {stats}\")\n",
    "print(f\"p-value: {pval:.3f}\")"
   ]
  },
  {
   "cell_type": "code",
   "execution_count": 130,
   "id": "1240304d",
   "metadata": {},
   "outputs": [
    {
     "name": "stdout",
     "output_type": "stream",
     "text": [
      "Test of proportion of Yes among yes and no\n",
      "Stats: -0.645680181221035\n",
      "p-value: 0.741\n"
     ]
    }
   ],
   "source": [
    "# Calculate the sum of yes and no proportion\n",
    "prop_ctr_response = ctr_response[0] + ctr_response[1]\n",
    "prop_exp_response = exp_response[0] + exp_response[1]\n",
    "\n",
    "# Overwrite the variable\n",
    "count = np.array([exp_response[1], ctr_response[1]])\n",
    "nobs = np.array([prop_exp_response, prop_ctr_response])\n",
    "\n",
    "# Test the value\n",
    "stats, pval = proportions_ztest(count, nobs, alternative=\"larger\")\n",
    "print(\"Test of proportion of Yes among yes and no\")\n",
    "print(f\"Stats: {stats}\")\n",
    "print(f\"p-value: {pval:.3f}\")"
   ]
  },
  {
   "cell_type": "code",
   "execution_count": 131,
   "id": "511154b9",
   "metadata": {},
   "outputs": [
    {
     "name": "stdout",
     "output_type": "stream",
     "text": [
      "Test of proportion of Yes among yes and no\n",
      "Stats: -0.645680181221035\n",
      "p-value: 0.259\n"
     ]
    }
   ],
   "source": [
    "# Calculate the sum of yes and no proportion\n",
    "prop_ctr_response = ctr_response[0] + ctr_response[1]\n",
    "prop_exp_response = exp_response[0] + exp_response[1]\n",
    "\n",
    "# Overwrite the variable\n",
    "count = np.array([exp_response[1], ctr_response[1]])\n",
    "nobs = np.array([prop_exp_response, prop_ctr_response])\n",
    "\n",
    "# Test the value\n",
    "stats, pval = proportions_ztest(count, nobs, alternative=\"smaller\")\n",
    "print(\"Test of proportion of Yes among yes and no\")\n",
    "print(f\"Stats: {stats}\")\n",
    "print(f\"p-value: {pval:.3f}\")"
   ]
  },
  {
   "cell_type": "markdown",
   "id": "0c6f675f",
   "metadata": {},
   "source": [
    "## Fischer Test"
   ]
  },
  {
   "cell_type": "code",
   "execution_count": 133,
   "id": "81eaacaf",
   "metadata": {},
   "outputs": [
    {
     "data": {
      "text/html": [
       "<div>\n",
       "<style scoped>\n",
       "    .dataframe tbody tr th:only-of-type {\n",
       "        vertical-align: middle;\n",
       "    }\n",
       "\n",
       "    .dataframe tbody tr th {\n",
       "        vertical-align: top;\n",
       "    }\n",
       "\n",
       "    .dataframe thead th {\n",
       "        text-align: right;\n",
       "    }\n",
       "</style>\n",
       "<table border=\"1\" class=\"dataframe\">\n",
       "  <thead>\n",
       "    <tr style=\"text-align: right;\">\n",
       "      <th>response</th>\n",
       "      <th>no</th>\n",
       "      <th>yes</th>\n",
       "    </tr>\n",
       "    <tr>\n",
       "      <th>experiment</th>\n",
       "      <th></th>\n",
       "      <th></th>\n",
       "    </tr>\n",
       "  </thead>\n",
       "  <tbody>\n",
       "    <tr>\n",
       "      <th>control</th>\n",
       "      <td>322</td>\n",
       "      <td>264</td>\n",
       "    </tr>\n",
       "    <tr>\n",
       "      <th>exposed</th>\n",
       "      <td>349</td>\n",
       "      <td>308</td>\n",
       "    </tr>\n",
       "  </tbody>\n",
       "</table>\n",
       "</div>"
      ],
      "text/plain": [
       "response     no  yes\n",
       "experiment          \n",
       "control     322  264\n",
       "exposed     349  308"
      ]
     },
     "execution_count": 133,
     "metadata": {},
     "output_type": "execute_result"
    }
   ],
   "source": [
    "# For fischer test using data dataset and not df\n",
    "contingency = pd.pivot_table(data=dataset, \n",
    "                             index='experiment', \n",
    "                             columns='response', \n",
    "                             aggfunc='count')['auction_id']\n",
    "\n",
    "contingency"
   ]
  },
  {
   "cell_type": "code",
   "execution_count": null,
   "id": "28c49500",
   "metadata": {},
   "outputs": [],
   "source": [
    "from scipy.stats import fischer_exact\n",
    "stats, pval = fischer_exact(contingency, alternative=\"two-side\")\n",
    "\n",
    "# Print the value\n",
    "print(f\"Fischer t"
   ]
  }
 ],
 "metadata": {
  "kernelspec": {
   "display_name": "Python 3 (ipykernel)",
   "language": "python",
   "name": "python3"
  },
  "language_info": {
   "codemirror_mode": {
    "name": "ipython",
    "version": 3
   },
   "file_extension": ".py",
   "mimetype": "text/x-python",
   "name": "python",
   "nbconvert_exporter": "python",
   "pygments_lexer": "ipython3",
   "version": "3.10.9"
  }
 },
 "nbformat": 4,
 "nbformat_minor": 5
}
